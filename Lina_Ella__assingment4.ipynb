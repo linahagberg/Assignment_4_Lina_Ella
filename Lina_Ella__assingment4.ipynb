{
 "cells": [
  {
   "cell_type": "markdown",
   "metadata": {},
   "source": [
    "# Assignment 1: This is the title of the assignment"
   ]
  },
  {
   "cell_type": "markdown",
   "metadata": {},
   "source": [
    "Authors:  \n",
    "Lina Hagberg  \n",
    "Ella Villför  "
   ]
  },
  {
   "cell_type": "markdown",
   "metadata": {},
   "source": [
    "## Imports"
   ]
  },
  {
   "cell_type": "markdown",
   "metadata": {},
   "source": [
    "ToDo: \n",
    "* Rensa bland viderona \n",
    "* Dela upp i träning \n",
    "* .MOV funkar ej"
   ]
  },
  {
   "cell_type": "code",
   "execution_count": 2,
   "metadata": {},
   "outputs": [
    {
     "name": "stdout",
     "output_type": "stream",
     "text": [
      "Ultralytics 8.3.88 🚀 Python-3.10.13 torch-2.6.0 CPU (Apple M1)\n",
      "Setup complete ✅ (8 CPUs, 16.0 GB RAM, 217.9/228.3 GB disk)\n"
     ]
    }
   ],
   "source": [
    "# It is recommended to start with general import statements\n",
    "from utility_functions import *\n",
    "import ultralytics\n",
    "ultralytics.checks()\n",
    "import cv2\n",
    "from ultralytics import YOLO\n",
    "from matplotlib import pyplot as plt\n",
    "import pandas as pd\n",
    "import numpy as np\n",
    "import os"
   ]
  },
  {
   "cell_type": "markdown",
   "metadata": {},
   "source": [
    "## Load data"
   ]
  },
  {
   "cell_type": "markdown",
   "metadata": {},
   "source": [
    "This section should load the raw dataset for the task.  \n",
    "Remember to use relative paths to load any files in the notebook."
   ]
  },
  {
   "cell_type": "code",
   "execution_count": 79,
   "metadata": {},
   "outputs": [
    {
     "name": "stdout",
     "output_type": "stream",
     "text": [
      "Processing: raw_data/plank\n",
      "Warning: Expected 34 keypoints, got 0.Filling with zeros - plank_2.mp4\n",
      "Warning: Expected 34 keypoints, got 0.Filling with zeros - plank_2.mp4\n",
      "Warning: Expected 34 keypoints, got 0.Filling with zeros - plank_2.mp4\n",
      "Warning: Expected 34 keypoints, got 0.Filling with zeros - plank_2.mp4\n",
      "Warning: Expected 34 keypoints, got 0.Filling with zeros - plank_2.mp4\n",
      "Warning: Expected 34 keypoints, got 0.Filling with zeros - plank_2.mp4\n",
      "Shape X: (11, 200, 34)\n",
      "Shape Y: (11,)\n"
     ]
    }
   ],
   "source": [
    "# Data to calssify: barbell biceps curl, bench press, deadlift, plank, pull up, push up, shoulder press and squat\n",
    "\n",
    "# Load the YOLOv8 model\n",
    "model = YOLO('yolov8n-pose.pt', verbose=False)\n",
    "\n",
    "# Path to the main dataset folder\n",
    "dataset_path = \"raw_data\" \n",
    "output_csv = \"keypoints_dataset.csv\"\n",
    "num_keypoints = 17 * 2  # 17 keypoints 34 total value\n",
    "num_frames = 200\n",
    "\n",
    "X = []\n",
    "Y = []\n",
    "\n",
    "# Iterate over each subfolder (exercise category)\n",
    "for exercise_folder in os.listdir(dataset_path):\n",
    "    if exercise_folder == \".DS_Store\":\n",
    "        continue\n",
    "    \n",
    "    exercise_path = os.path.join(dataset_path, exercise_folder)\n",
    "    print(f\"Processing: {exercise_path}\")\n",
    "\n",
    "    \n",
    "    # Ensure it's a directory\n",
    "    if not os.path.isdir(exercise_path):\n",
    "        continue\n",
    "    \n",
    "    # Iterate over each video in the exercise folder\n",
    "    for video_file in os.listdir(exercise_path):\n",
    "        video_path = os.path.join(exercise_path, video_file)\n",
    "        \n",
    "        # Ensure it's a video file (basic check)\n",
    "        if not video_file.lower().endswith((\".mp4\", \".mov\")):\n",
    "            continue\n",
    "        \n",
    "        cap = cv2.VideoCapture(video_path)\n",
    "        keypoints_list = []\n",
    "\n",
    "        # Loop through the video frames\n",
    "        while cap.isOpened():\n",
    "            # Read a frame from the video\n",
    "            success, frame = cap.read()\n",
    "\n",
    "            if not success:\n",
    "                break\n",
    "\n",
    "            # Run YOLOv8 tracking on the frame, persisting tracks between frames\n",
    "            results = model.track(frame, persist=True, tracker ='bytetrack.yaml', conf=0.05, classes=0, verbose=False)\n",
    "\n",
    "            # Extract keypoints (Handle cases where no person is detected)\n",
    "            if results[0].keypoints is not None:\n",
    "                # Takes the most confident person (fisrt person in list)\n",
    "                keypoints = results[0].keypoints.xy.cpu().numpy()[0].flatten()\n",
    "            else:\n",
    "                keypoints = np.zeros(num_keypoints)  # Fill with zeros if no keypoints detected\n",
    "\n",
    "            # Ensure keypoints are always 34 values\n",
    "            if len(keypoints) > num_keypoints:\n",
    "                print(f\"Warning: Expected {num_keypoints} keypoints, got {len(keypoints)}. Only keeping 34 first - {video_file}\")\n",
    "                keypoints = keypoints[:num_keypoints]  # Trim to match expected length\n",
    "                \n",
    "            elif len(keypoints) < num_keypoints:\n",
    "                print(f\"Warning: Expected {num_keypoints} keypoints, got {len(keypoints)}.Filling with zeros - {video_file}\")\n",
    "                keypoints = np.pad(keypoints, (0, num_keypoints - len(keypoints)), 'constant')\n",
    "\n",
    "            # Append to DataFrame\n",
    "            keypoints_list.append(keypoints)\n",
    "\n",
    "        cap.release()\n",
    "\n",
    "        keypoints_list = np.array(keypoints_list)\n",
    "        \n",
    "        if len(keypoints_list) < num_frames:\n",
    "            # Padding\n",
    "            keypoints_list_adj = np.pad(keypoints_list, ((0, num_frames - keypoints_list.shape[0]), (0, 0)),  'constant')\n",
    "\n",
    "            #keypoints_list = np.pad(keypoints_list, (0, num_frames - len(keypoints_list)), 'constant')\n",
    "        elif len(keypoints_list) > num_frames:\n",
    "            # Trim\n",
    "            keypoints_list_adj = keypoints_list[:num_frames]\n",
    "            \n",
    "        X.append(keypoints_list_adj)\n",
    "        Y.append(exercise_folder)\n",
    "\n",
    "        if exercise_folder == \"plank\" and keypoints_list.shape[0] > num_frames*2:\n",
    "            keypoints_list_adj = keypoints_list[keypoints_list.shape[0]-num_frames:keypoints_list.shape[0]]\n",
    "            X.append(keypoints_list_adj)\n",
    "            Y.append(exercise_folder)\n",
    "\n",
    "\n",
    "\n",
    "# Convert to NumPy arrays\n",
    "X_numpy = np.array(X)  # Shape: (num_videos, 200, 34)\n",
    "Y_numpy = np.array(Y)  # Labels\n",
    "\n",
    "print(f\"Shape X: {X_numpy.shape}\")  # Should be (num_videos, 200, 34)\n",
    "print(f\"Shape Y: {Y_numpy.shape}\")  # Should be (num_videos,)\n"
   ]
  },
  {
   "cell_type": "code",
   "execution_count": 80,
   "metadata": {},
   "outputs": [
    {
     "name": "stdout",
     "output_type": "stream",
     "text": [
      "CSV file saved successfully\n"
     ]
    }
   ],
   "source": [
    "# Save data to CSV\n",
    "\n",
    "def saveToCsv(filename, X, Y):\n",
    "    temp = []\n",
    "\n",
    "    for i in range(Y.shape[0]):\n",
    "        if Y[i] == filename:\n",
    "            temp.append(X[i,:,:])\n",
    "\n",
    "    # Convert list of arrays into a NumPy array\n",
    "    temp_numpy = np.array(temp)  # Shape: (num_squat_samples, 200, 29)\n",
    "\n",
    "    # Reshape into a 2D format for CSV (flattening each video sequence)\n",
    "    num_samples, num_frames, num_features = temp_numpy.shape\n",
    "    temp_reshaped = temp_numpy.reshape(num_samples, num_frames * num_features)\n",
    "\n",
    "    # Convert to Pandas DataFrame\n",
    "    temp_df = pd.DataFrame(temp_reshaped)\n",
    "\n",
    "    # Save to CSV\n",
    "    temp_df.to_csv(f\"{filename}.csv\", index=False)\n",
    "\n",
    "    print(\"CSV file saved successfully\")\n",
    "\n",
    "saveToCsv(\"plank\", X_numpy, Y_numpy)\n",
    "\n",
    "\n",
    "\n",
    "\n"
   ]
  },
  {
   "cell_type": "code",
   "execution_count": 81,
   "metadata": {},
   "outputs": [
    {
     "name": "stdout",
     "output_type": "stream",
     "text": [
      "Restored Shape: (11, 200, 34)\n",
      "Restored Shape: (29, 200, 34)\n",
      "Restored Shape: (32, 200, 34)\n",
      "Shape X_numpy: (72, 200, 34)\n",
      "Shape Y_numpy: (72,)\n"
     ]
    }
   ],
   "source": [
    "# Load csv\n",
    "\n",
    "def load_csv(filename, num_frames):\n",
    "\n",
    "    # Load the CSV file\n",
    "    load_df = pd.read_csv(f\"processed_data/{filename}\")\n",
    "\n",
    "    # Convert DataFrame to NumPy array\n",
    "    load_numpy = load_df.to_numpy()  # Shape: (num_samples, 5800)\n",
    "\n",
    "    # Reshape back to original (samples, 200, 29)\n",
    "    num_samples = load_numpy.shape[0]\n",
    "    num_features = 34\n",
    "\n",
    "    X_load = load_numpy.reshape(num_samples, num_frames, num_features)\n",
    "    name = filename.replace(\".csv\", \"\")\n",
    "    Y_load = np.array([name] * X_load.shape[0])\n",
    "\n",
    "    print(f\"Restored Shape: {X_load.shape}\")  # Expected: (num_samples, 200, 29)\n",
    "\n",
    "    return X_load, Y_load\n",
    "\n",
    "X = []\n",
    "Y = []\n",
    "\n",
    "for exercise in os.listdir(\"processed_data\"):\n",
    "    x_temp, y_temp = load_csv(exercise, num_frames)\n",
    "    X.append(x_temp)\n",
    "    Y.append(y_temp)\n",
    "\n",
    "X_numpy = np.concatenate(X) # Stack along samples axis\n",
    "Y_numpy = np.concatenate(Y) # Labels\n",
    "\n",
    "print(f\"Shape X_numpy: {X_numpy.shape}\")  # Should be (num_videos, 200, 34)\n",
    "print(f\"Shape Y_numpy: {Y_numpy.shape}\")  # Should be (num_videos,)\n"
   ]
  },
  {
   "cell_type": "code",
   "execution_count": 82,
   "metadata": {},
   "outputs": [
    {
     "name": "stdout",
     "output_type": "stream",
     "text": [
      "Shape X: (72, 200, 26)\n"
     ]
    }
   ],
   "source": [
    "\n",
    "X_body = X_numpy[:,:,8:]\n",
    "print(f\"Shape X: {X_body.shape}\")  # Should be (num_videos, 200, 26)"
   ]
  },
  {
   "cell_type": "code",
   "execution_count": 83,
   "metadata": {},
   "outputs": [
    {
     "name": "stdout",
     "output_type": "stream",
     "text": [
      "Unique values: ['deadlift' 'plank' 'squat']\n",
      "Count: [32 11 29]\n"
     ]
    }
   ],
   "source": [
    "unique_values, counts = np.unique(Y_numpy, return_counts=True)\n",
    "\n",
    "print(f\"Unique values: {unique_values}\")\n",
    "print(f\"Count: {counts}\")"
   ]
  },
  {
   "cell_type": "code",
   "execution_count": null,
   "metadata": {},
   "outputs": [],
   "source": [
    "# Dictionary that maps from joint names to keypoint indices.\n",
    "KEYPOINT_DICT = {\n",
    "    'nose': 0,\n",
    "    'left_eye': 1,\n",
    "    'right_eye': 2,\n",
    "    'left_ear': 3,\n",
    "    'right_ear': 4,\n",
    "    'left_shoulder': 5,\n",
    "    'right_shoulder': 6,\n",
    "    'left_elbow': 7,\n",
    "    'right_elbow': 8,\n",
    "    'left_wrist': 9,\n",
    "    'right_wrist': 10,\n",
    "    'left_hip': 11,\n",
    "    'right_hip': 12,\n",
    "    'left_knee': 13,\n",
    "    'right_knee': 14,\n",
    "    'left_ankle': 15,\n",
    "    'right_ankle': 16\n",
    "}\n",
    "\n",
    "# Maps bones to a matplotlib color name.\n",
    "KEYPOINT_EDGE_INDS_TO_COLOR = {\n",
    "    (0, 1): 'm',\n",
    "    (0, 2): 'c',\n",
    "    (1, 3): 'm',\n",
    "    (2, 4): 'c',\n",
    "    (0, 5): 'm',\n",
    "    (0, 6): 'c',\n",
    "    (5, 7): 'm',\n",
    "    (7, 9): 'm',\n",
    "    (6, 8): 'c',\n",
    "    (8, 10): 'c',\n",
    "    (5, 6): 'y',\n",
    "    (5, 11): 'm',\n",
    "    (6, 12): 'c',\n",
    "    (11, 12): 'y',\n",
    "    (11, 13): 'm',\n",
    "    (13, 15): 'm',\n",
    "    (12, 14): 'c',\n",
    "    (14, 16): 'c'\n",
    "}"
   ]
  },
  {
   "cell_type": "markdown",
   "metadata": {},
   "source": [
    "## Task 1: This is the title of task 1"
   ]
  },
  {
   "cell_type": "markdown",
   "metadata": {},
   "source": [
    "This section should contain the solution of task 1."
   ]
  },
  {
   "cell_type": "markdown",
   "metadata": {},
   "source": [
    "It is mandatory to maintain the headings for each task.  \n",
    "OPTIONALLY, you can use one level down (###) to organize subsessions of the assignments."
   ]
  },
  {
   "cell_type": "code",
   "execution_count": null,
   "metadata": {},
   "outputs": [
    {
     "name": "stdout",
     "output_type": "stream",
     "text": [
      "Shape X: (50, 200, 26)\n",
      "Epoch 1/10\n",
      "2/2 [==============================] - 6s 1s/step - loss: 1.0889 - accuracy: 0.4200 - val_loss: 1.0628 - val_accuracy: 0.5455\n",
      "Epoch 2/10\n",
      "2/2 [==============================] - 0s 183ms/step - loss: 1.0054 - accuracy: 0.5800 - val_loss: 1.0394 - val_accuracy: 0.5000\n",
      "Epoch 3/10\n",
      "2/2 [==============================] - 0s 198ms/step - loss: 0.9156 - accuracy: 0.6200 - val_loss: 0.9877 - val_accuracy: 0.5909\n",
      "Epoch 4/10\n",
      "2/2 [==============================] - 0s 184ms/step - loss: 0.8331 - accuracy: 0.7600 - val_loss: 0.9678 - val_accuracy: 0.5909\n",
      "Epoch 5/10\n",
      "2/2 [==============================] - 0s 192ms/step - loss: 0.7630 - accuracy: 0.8400 - val_loss: 0.9314 - val_accuracy: 0.5455\n",
      "Epoch 6/10\n",
      "2/2 [==============================] - 0s 195ms/step - loss: 0.7141 - accuracy: 0.8000 - val_loss: 0.8491 - val_accuracy: 0.5909\n",
      "Epoch 7/10\n",
      "2/2 [==============================] - 0s 207ms/step - loss: 0.6154 - accuracy: 0.9000 - val_loss: 0.8416 - val_accuracy: 0.6364\n",
      "Epoch 8/10\n",
      "2/2 [==============================] - 0s 213ms/step - loss: 0.5273 - accuracy: 0.9000 - val_loss: 0.8003 - val_accuracy: 0.6818\n",
      "Epoch 9/10\n",
      "2/2 [==============================] - 0s 188ms/step - loss: 0.4752 - accuracy: 0.9000 - val_loss: 0.7651 - val_accuracy: 0.7273\n",
      "Epoch 10/10\n",
      "2/2 [==============================] - 0s 199ms/step - loss: 0.4038 - accuracy: 0.9200 - val_loss: 0.7158 - val_accuracy: 0.8182\n"
     ]
    },
    {
     "data": {
      "text/plain": [
       "<keras.callbacks.History at 0x141e37e50>"
      ]
     },
     "execution_count": 87,
     "metadata": {},
     "output_type": "execute_result"
    }
   ],
   "source": [
    "import tensorflow as tf\n",
    "from tensorflow.keras.models import Sequential\n",
    "from tensorflow.keras.layers import LSTM, Dense, Dropout, Masking\n",
    "from sklearn.model_selection import train_test_split\n",
    "import pandas as pd\n",
    "\n",
    "# Convert labels to categorical (one-hot encoding)\n",
    "from sklearn.preprocessing import LabelEncoder\n",
    "encoder = LabelEncoder()\n",
    "y = encoder.fit_transform(Y_numpy)  # Convert string labels to numbers\n",
    "y = tf.keras.utils.to_categorical(y)  # One-hot encode labels\n",
    "\n",
    "# Define LSTM model\n",
    "model = Sequential([\n",
    "    Masking(mask_value=0.0,input_shape=(X_body.shape[1], X_body.shape[2])),\n",
    "    LSTM(128, return_sequences=True, ),\n",
    "    Dropout(0.3),\n",
    "    LSTM(64, return_sequences=False),\n",
    "    Dropout(0.3),\n",
    "    Dense(32, activation='relu'),\n",
    "    Dense(y.shape[1], activation='softmax')  # Output layer\n",
    "])\n",
    "\n",
    "# Compile model\n",
    "model.compile(optimizer='adam', loss='categorical_crossentropy', metrics=['accuracy'])\n",
    "\n",
    "# Train model\n",
    "X_train, X_test, y_train, y_test = train_test_split(X_body, y, test_size=0.3, random_state=42)\n",
    "print(f\"Shape X: {X_train.shape}\")  # Should be (num_videos, 200, 34)\n",
    "model.fit(X_train, y_train, epochs=10, batch_size=32, validation_data=(X_test, y_test))\n",
    "\n",
    "# Evaluate the model\n",
    "loss, accuracy = model.evaluate(X_test, y_test)\n",
    "\n",
    "# Print results\n",
    "print(f\"Test Loss: {loss:.4f}\")\n",
    "print(f\"Test Accuracy: {accuracy:.4f}\")\n",
    "\n"
   ]
  },
  {
   "cell_type": "code",
   "execution_count": null,
   "metadata": {},
   "outputs": [
    {
     "name": "stdout",
     "output_type": "stream",
     "text": [
      "1/1 [==============================] - 0s 56ms/step - loss: 0.7158 - accuracy: 0.8182\n",
      "Test Loss: 0.7158\n",
      "Test Accuracy: 0.8182\n",
      "WARNING:tensorflow:5 out of the last 87 calls to <function Model.make_predict_function.<locals>.predict_function at 0x376b0c160> triggered tf.function retracing. Tracing is expensive and the excessive number of tracings could be due to (1) creating @tf.function repeatedly in a loop, (2) passing tensors with different shapes, (3) passing Python objects instead of tensors. For (1), please define your @tf.function outside of the loop. For (2), @tf.function has reduce_retracing=True option that can avoid unnecessary retracing. For (3), please refer to https://www.tensorflow.org/guide/function#controlling_retracing and https://www.tensorflow.org/api_docs/python/tf/function for  more details.\n",
      "1/1 [==============================] - 2s 2s/step\n",
      "              precision    recall  f1-score   support\n",
      "\n",
      "    deadlift       0.73      1.00      0.84         8\n",
      "       plank       1.00      0.60      0.75         5\n",
      "       squat       0.88      0.78      0.82         9\n",
      "\n",
      "    accuracy                           0.82        22\n",
      "   macro avg       0.87      0.79      0.81        22\n",
      "weighted avg       0.85      0.82      0.81        22\n",
      "\n"
     ]
    },
    {
     "data": {
      "image/png": "[encoded data removed]",
      "text/plain": [
       "<Figure size 800x600 with 2 Axes>"
      ]
     },
     "metadata": {},
     "output_type": "display_data"
    }
   ],
   "source": [
    "from sklearn.metrics import classification_report\n",
    "import numpy as np\n",
    "\n",
    "# Get predictions\n",
    "y_pred = model.predict(X_test)\n",
    "y_pred_classes = np.argmax(y_pred, axis=1)  # Convert probabilities to class labels\n",
    "y_true_classes = np.argmax(y_test, axis=1)  # Convert one-hot encoding back to labels\n",
    "\n",
    "# Print classification report\n",
    "print(classification_report(y_true_classes, y_pred_classes, target_names=encoder.classes_))\n",
    "\n",
    "import seaborn as sns\n",
    "import matplotlib.pyplot as plt\n",
    "from sklearn.metrics import confusion_matrix\n",
    "\n",
    "# Compute confusion matrix\n",
    "cm = confusion_matrix(y_true_classes, y_pred_classes)\n",
    "\n",
    "# Plot confusion matrix\n",
    "plt.figure(figsize=(8,6))\n",
    "sns.heatmap(cm, annot=True, fmt=\"d\", cmap=\"Blues\", xticklabels=encoder.classes_, yticklabels=encoder.classes_)\n",
    "plt.xlabel(\"Predicted\")\n",
    "plt.ylabel(\"Actual\")\n",
    "plt.title(\"Confusion Matrix\")\n",
    "plt.show()\n",
    "\n"
   ]
  },
  {
   "cell_type": "markdown",
   "metadata": {},
   "source": [
    "Use markdown cells like this one to include:\n",
    "- Discussion points.\n",
    "- References to specific sources of code that you might have used to solve the assignment.\n",
    "- General commentas and explanations about your solution."
   ]
  },
  {
   "cell_type": "code",
   "execution_count": null,
   "metadata": {},
   "outputs": [],
   "source": [
    "# Always use comments in the code to document specific steps"
   ]
  },
  {
   "cell_type": "markdown",
   "metadata": {},
   "source": [
    "## Task 2: This is the title of task 2"
   ]
  },
  {
   "cell_type": "markdown",
   "metadata": {},
   "source": [
    "This section should contain the solution of task 2."
   ]
  },
  {
   "cell_type": "markdown",
   "metadata": {},
   "source": [
    "## Results and Discussion"
   ]
  },
  {
   "cell_type": "code",
   "execution_count": null,
   "metadata": {},
   "outputs": [],
   "source": [
    "# Always use comments in the code to document specific steps"
   ]
  },
  {
   "cell_type": "markdown",
   "metadata": {},
   "source": [
    "This section should contain:\n",
    "- Results.\n",
    "- Summary of best model performance:\n",
    "    - Name of best model file as saved in /models.\n",
    "    - Relevant scores such as: accuracy, precision, recall, F1-score, etc.\n",
    "- Key discussion points."
   ]
  }
 ],
 "metadata": {
  "kernelspec": {
   "display_name": "ML_A2",
   "language": "python",
   "name": "python3"
  },
  "language_info": {
   "codemirror_mode": {
    "name": "ipython",
    "version": 3
   },
   "file_extension": ".py",
   "mimetype": "text/x-python",
   "name": "python",
   "nbconvert_exporter": "python",
   "pygments_lexer": "ipython3",
   "version": "3.10.8"
  }
 },
 "nbformat": 4,
 "nbformat_minor": 2
}
